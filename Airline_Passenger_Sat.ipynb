{
 "cells": [
  {
   "cell_type": "markdown",
   "metadata": {},
   "source": [
    "#### LOADING PACKAGES"
   ]
  },
  {
   "cell_type": "code",
   "execution_count": 17,
   "metadata": {},
   "outputs": [],
   "source": [
    "import pandas as pd\n",
    "import numpy as np\n",
    "import seaborn as sns\n",
    "import matplotlib.pyplot as plt\n",
    "import seaborn as sns\n",
    "import sklearn\n",
    "from sklearn.cluster import KMeans , k_means\n",
    "import warnings "
   ]
  },
  {
   "cell_type": "markdown",
   "metadata": {},
   "source": [
    "#### LOADING TRAINING DATA"
   ]
  },
  {
   "cell_type": "code",
   "execution_count": 18,
   "metadata": {},
   "outputs": [
    {
     "data": {
      "text/html": [
       "<div>\n",
       "<style scoped>\n",
       "    .dataframe tbody tr th:only-of-type {\n",
       "        vertical-align: middle;\n",
       "    }\n",
       "\n",
       "    .dataframe tbody tr th {\n",
       "        vertical-align: top;\n",
       "    }\n",
       "\n",
       "    .dataframe thead th {\n",
       "        text-align: right;\n",
       "    }\n",
       "</style>\n",
       "<table border=\"1\" class=\"dataframe\">\n",
       "  <thead>\n",
       "    <tr style=\"text-align: right;\">\n",
       "      <th></th>\n",
       "      <th>Unnamed: 0</th>\n",
       "      <th>id</th>\n",
       "      <th>Gender</th>\n",
       "      <th>Customer Type</th>\n",
       "      <th>Age</th>\n",
       "      <th>Type of Travel</th>\n",
       "      <th>Class</th>\n",
       "      <th>Flight Distance</th>\n",
       "      <th>Inflight wifi service</th>\n",
       "      <th>Departure/Arrival time convenient</th>\n",
       "      <th>...</th>\n",
       "      <th>Inflight entertainment</th>\n",
       "      <th>On-board service</th>\n",
       "      <th>Leg room service</th>\n",
       "      <th>Baggage handling</th>\n",
       "      <th>Checkin service</th>\n",
       "      <th>Inflight service</th>\n",
       "      <th>Cleanliness</th>\n",
       "      <th>Departure Delay in Minutes</th>\n",
       "      <th>Arrival Delay in Minutes</th>\n",
       "      <th>satisfaction</th>\n",
       "    </tr>\n",
       "  </thead>\n",
       "  <tbody>\n",
       "    <tr>\n",
       "      <th>0</th>\n",
       "      <td>0</td>\n",
       "      <td>70172</td>\n",
       "      <td>Male</td>\n",
       "      <td>Loyal Customer</td>\n",
       "      <td>13</td>\n",
       "      <td>Personal Travel</td>\n",
       "      <td>Eco Plus</td>\n",
       "      <td>460</td>\n",
       "      <td>3</td>\n",
       "      <td>4</td>\n",
       "      <td>...</td>\n",
       "      <td>5</td>\n",
       "      <td>4</td>\n",
       "      <td>3</td>\n",
       "      <td>4</td>\n",
       "      <td>4</td>\n",
       "      <td>5</td>\n",
       "      <td>5</td>\n",
       "      <td>25</td>\n",
       "      <td>18.0</td>\n",
       "      <td>neutral or dissatisfied</td>\n",
       "    </tr>\n",
       "    <tr>\n",
       "      <th>1</th>\n",
       "      <td>1</td>\n",
       "      <td>5047</td>\n",
       "      <td>Male</td>\n",
       "      <td>disloyal Customer</td>\n",
       "      <td>25</td>\n",
       "      <td>Business travel</td>\n",
       "      <td>Business</td>\n",
       "      <td>235</td>\n",
       "      <td>3</td>\n",
       "      <td>2</td>\n",
       "      <td>...</td>\n",
       "      <td>1</td>\n",
       "      <td>1</td>\n",
       "      <td>5</td>\n",
       "      <td>3</td>\n",
       "      <td>1</td>\n",
       "      <td>4</td>\n",
       "      <td>1</td>\n",
       "      <td>1</td>\n",
       "      <td>6.0</td>\n",
       "      <td>neutral or dissatisfied</td>\n",
       "    </tr>\n",
       "    <tr>\n",
       "      <th>2</th>\n",
       "      <td>2</td>\n",
       "      <td>110028</td>\n",
       "      <td>Female</td>\n",
       "      <td>Loyal Customer</td>\n",
       "      <td>26</td>\n",
       "      <td>Business travel</td>\n",
       "      <td>Business</td>\n",
       "      <td>1142</td>\n",
       "      <td>2</td>\n",
       "      <td>2</td>\n",
       "      <td>...</td>\n",
       "      <td>5</td>\n",
       "      <td>4</td>\n",
       "      <td>3</td>\n",
       "      <td>4</td>\n",
       "      <td>4</td>\n",
       "      <td>4</td>\n",
       "      <td>5</td>\n",
       "      <td>0</td>\n",
       "      <td>0.0</td>\n",
       "      <td>satisfied</td>\n",
       "    </tr>\n",
       "    <tr>\n",
       "      <th>3</th>\n",
       "      <td>3</td>\n",
       "      <td>24026</td>\n",
       "      <td>Female</td>\n",
       "      <td>Loyal Customer</td>\n",
       "      <td>25</td>\n",
       "      <td>Business travel</td>\n",
       "      <td>Business</td>\n",
       "      <td>562</td>\n",
       "      <td>2</td>\n",
       "      <td>5</td>\n",
       "      <td>...</td>\n",
       "      <td>2</td>\n",
       "      <td>2</td>\n",
       "      <td>5</td>\n",
       "      <td>3</td>\n",
       "      <td>1</td>\n",
       "      <td>4</td>\n",
       "      <td>2</td>\n",
       "      <td>11</td>\n",
       "      <td>9.0</td>\n",
       "      <td>neutral or dissatisfied</td>\n",
       "    </tr>\n",
       "    <tr>\n",
       "      <th>4</th>\n",
       "      <td>4</td>\n",
       "      <td>119299</td>\n",
       "      <td>Male</td>\n",
       "      <td>Loyal Customer</td>\n",
       "      <td>61</td>\n",
       "      <td>Business travel</td>\n",
       "      <td>Business</td>\n",
       "      <td>214</td>\n",
       "      <td>3</td>\n",
       "      <td>3</td>\n",
       "      <td>...</td>\n",
       "      <td>3</td>\n",
       "      <td>3</td>\n",
       "      <td>4</td>\n",
       "      <td>4</td>\n",
       "      <td>3</td>\n",
       "      <td>3</td>\n",
       "      <td>3</td>\n",
       "      <td>0</td>\n",
       "      <td>0.0</td>\n",
       "      <td>satisfied</td>\n",
       "    </tr>\n",
       "    <tr>\n",
       "      <th>...</th>\n",
       "      <td>...</td>\n",
       "      <td>...</td>\n",
       "      <td>...</td>\n",
       "      <td>...</td>\n",
       "      <td>...</td>\n",
       "      <td>...</td>\n",
       "      <td>...</td>\n",
       "      <td>...</td>\n",
       "      <td>...</td>\n",
       "      <td>...</td>\n",
       "      <td>...</td>\n",
       "      <td>...</td>\n",
       "      <td>...</td>\n",
       "      <td>...</td>\n",
       "      <td>...</td>\n",
       "      <td>...</td>\n",
       "      <td>...</td>\n",
       "      <td>...</td>\n",
       "      <td>...</td>\n",
       "      <td>...</td>\n",
       "      <td>...</td>\n",
       "    </tr>\n",
       "    <tr>\n",
       "      <th>103899</th>\n",
       "      <td>103899</td>\n",
       "      <td>94171</td>\n",
       "      <td>Female</td>\n",
       "      <td>disloyal Customer</td>\n",
       "      <td>23</td>\n",
       "      <td>Business travel</td>\n",
       "      <td>Eco</td>\n",
       "      <td>192</td>\n",
       "      <td>2</td>\n",
       "      <td>1</td>\n",
       "      <td>...</td>\n",
       "      <td>2</td>\n",
       "      <td>3</td>\n",
       "      <td>1</td>\n",
       "      <td>4</td>\n",
       "      <td>2</td>\n",
       "      <td>3</td>\n",
       "      <td>2</td>\n",
       "      <td>3</td>\n",
       "      <td>0.0</td>\n",
       "      <td>neutral or dissatisfied</td>\n",
       "    </tr>\n",
       "    <tr>\n",
       "      <th>103900</th>\n",
       "      <td>103900</td>\n",
       "      <td>73097</td>\n",
       "      <td>Male</td>\n",
       "      <td>Loyal Customer</td>\n",
       "      <td>49</td>\n",
       "      <td>Business travel</td>\n",
       "      <td>Business</td>\n",
       "      <td>2347</td>\n",
       "      <td>4</td>\n",
       "      <td>4</td>\n",
       "      <td>...</td>\n",
       "      <td>5</td>\n",
       "      <td>5</td>\n",
       "      <td>5</td>\n",
       "      <td>5</td>\n",
       "      <td>5</td>\n",
       "      <td>5</td>\n",
       "      <td>4</td>\n",
       "      <td>0</td>\n",
       "      <td>0.0</td>\n",
       "      <td>satisfied</td>\n",
       "    </tr>\n",
       "    <tr>\n",
       "      <th>103901</th>\n",
       "      <td>103901</td>\n",
       "      <td>68825</td>\n",
       "      <td>Male</td>\n",
       "      <td>disloyal Customer</td>\n",
       "      <td>30</td>\n",
       "      <td>Business travel</td>\n",
       "      <td>Business</td>\n",
       "      <td>1995</td>\n",
       "      <td>1</td>\n",
       "      <td>1</td>\n",
       "      <td>...</td>\n",
       "      <td>4</td>\n",
       "      <td>3</td>\n",
       "      <td>2</td>\n",
       "      <td>4</td>\n",
       "      <td>5</td>\n",
       "      <td>5</td>\n",
       "      <td>4</td>\n",
       "      <td>7</td>\n",
       "      <td>14.0</td>\n",
       "      <td>neutral or dissatisfied</td>\n",
       "    </tr>\n",
       "    <tr>\n",
       "      <th>103902</th>\n",
       "      <td>103902</td>\n",
       "      <td>54173</td>\n",
       "      <td>Female</td>\n",
       "      <td>disloyal Customer</td>\n",
       "      <td>22</td>\n",
       "      <td>Business travel</td>\n",
       "      <td>Eco</td>\n",
       "      <td>1000</td>\n",
       "      <td>1</td>\n",
       "      <td>1</td>\n",
       "      <td>...</td>\n",
       "      <td>1</td>\n",
       "      <td>4</td>\n",
       "      <td>5</td>\n",
       "      <td>1</td>\n",
       "      <td>5</td>\n",
       "      <td>4</td>\n",
       "      <td>1</td>\n",
       "      <td>0</td>\n",
       "      <td>0.0</td>\n",
       "      <td>neutral or dissatisfied</td>\n",
       "    </tr>\n",
       "    <tr>\n",
       "      <th>103903</th>\n",
       "      <td>103903</td>\n",
       "      <td>62567</td>\n",
       "      <td>Male</td>\n",
       "      <td>Loyal Customer</td>\n",
       "      <td>27</td>\n",
       "      <td>Business travel</td>\n",
       "      <td>Business</td>\n",
       "      <td>1723</td>\n",
       "      <td>1</td>\n",
       "      <td>3</td>\n",
       "      <td>...</td>\n",
       "      <td>1</td>\n",
       "      <td>1</td>\n",
       "      <td>1</td>\n",
       "      <td>4</td>\n",
       "      <td>4</td>\n",
       "      <td>3</td>\n",
       "      <td>1</td>\n",
       "      <td>0</td>\n",
       "      <td>0.0</td>\n",
       "      <td>neutral or dissatisfied</td>\n",
       "    </tr>\n",
       "  </tbody>\n",
       "</table>\n",
       "<p>103904 rows × 25 columns</p>\n",
       "</div>"
      ],
      "text/plain": [
       "        Unnamed: 0      id  Gender      Customer Type  Age   Type of Travel  \\\n",
       "0                0   70172    Male     Loyal Customer   13  Personal Travel   \n",
       "1                1    5047    Male  disloyal Customer   25  Business travel   \n",
       "2                2  110028  Female     Loyal Customer   26  Business travel   \n",
       "3                3   24026  Female     Loyal Customer   25  Business travel   \n",
       "4                4  119299    Male     Loyal Customer   61  Business travel   \n",
       "...            ...     ...     ...                ...  ...              ...   \n",
       "103899      103899   94171  Female  disloyal Customer   23  Business travel   \n",
       "103900      103900   73097    Male     Loyal Customer   49  Business travel   \n",
       "103901      103901   68825    Male  disloyal Customer   30  Business travel   \n",
       "103902      103902   54173  Female  disloyal Customer   22  Business travel   \n",
       "103903      103903   62567    Male     Loyal Customer   27  Business travel   \n",
       "\n",
       "           Class  Flight Distance  Inflight wifi service  \\\n",
       "0       Eco Plus              460                      3   \n",
       "1       Business              235                      3   \n",
       "2       Business             1142                      2   \n",
       "3       Business              562                      2   \n",
       "4       Business              214                      3   \n",
       "...          ...              ...                    ...   \n",
       "103899       Eco              192                      2   \n",
       "103900  Business             2347                      4   \n",
       "103901  Business             1995                      1   \n",
       "103902       Eco             1000                      1   \n",
       "103903  Business             1723                      1   \n",
       "\n",
       "        Departure/Arrival time convenient  ...  Inflight entertainment  \\\n",
       "0                                       4  ...                       5   \n",
       "1                                       2  ...                       1   \n",
       "2                                       2  ...                       5   \n",
       "3                                       5  ...                       2   \n",
       "4                                       3  ...                       3   \n",
       "...                                   ...  ...                     ...   \n",
       "103899                                  1  ...                       2   \n",
       "103900                                  4  ...                       5   \n",
       "103901                                  1  ...                       4   \n",
       "103902                                  1  ...                       1   \n",
       "103903                                  3  ...                       1   \n",
       "\n",
       "        On-board service  Leg room service  Baggage handling  Checkin service  \\\n",
       "0                      4                 3                 4                4   \n",
       "1                      1                 5                 3                1   \n",
       "2                      4                 3                 4                4   \n",
       "3                      2                 5                 3                1   \n",
       "4                      3                 4                 4                3   \n",
       "...                  ...               ...               ...              ...   \n",
       "103899                 3                 1                 4                2   \n",
       "103900                 5                 5                 5                5   \n",
       "103901                 3                 2                 4                5   \n",
       "103902                 4                 5                 1                5   \n",
       "103903                 1                 1                 4                4   \n",
       "\n",
       "        Inflight service  Cleanliness  Departure Delay in Minutes  \\\n",
       "0                      5            5                          25   \n",
       "1                      4            1                           1   \n",
       "2                      4            5                           0   \n",
       "3                      4            2                          11   \n",
       "4                      3            3                           0   \n",
       "...                  ...          ...                         ...   \n",
       "103899                 3            2                           3   \n",
       "103900                 5            4                           0   \n",
       "103901                 5            4                           7   \n",
       "103902                 4            1                           0   \n",
       "103903                 3            1                           0   \n",
       "\n",
       "        Arrival Delay in Minutes             satisfaction  \n",
       "0                           18.0  neutral or dissatisfied  \n",
       "1                            6.0  neutral or dissatisfied  \n",
       "2                            0.0                satisfied  \n",
       "3                            9.0  neutral or dissatisfied  \n",
       "4                            0.0                satisfied  \n",
       "...                          ...                      ...  \n",
       "103899                       0.0  neutral or dissatisfied  \n",
       "103900                       0.0                satisfied  \n",
       "103901                      14.0  neutral or dissatisfied  \n",
       "103902                       0.0  neutral or dissatisfied  \n",
       "103903                       0.0  neutral or dissatisfied  \n",
       "\n",
       "[103904 rows x 25 columns]"
      ]
     },
     "execution_count": 18,
     "metadata": {},
     "output_type": "execute_result"
    }
   ],
   "source": [
    "cs1 = pd.read_csv(\"Data/train.csv\")\n",
    "cs1"
   ]
  },
  {
   "cell_type": "markdown",
   "metadata": {},
   "source": [
    "#### THE FOLLOWING IS OUR PLAN :\n",
    "\n",
    "#### 1. EXPLANATORY ANALYSIS\n",
    "* ##### Insights into the data types & checking for null values.\n",
    "* ##### Taking care of null values & coverting data type.\n",
    "* ##### Checking for anamolies.\n",
    "\n",
    "#### 2. VISUALIZATION & MODELING\n",
    "* ##### Initial Data visualization & coorlation matrix.\n",
    "* ##### Feature selection & prepration for modeling.\n",
    "* ##### Model choise & justification.\n",
    "* ##### Mesuring model performance.\n",
    "\n",
    "#### 3. VISUALIZATION & MODELING\n",
    "* ##### Testing the model.\n",
    "* ##### Hyper parameter tuning.\n"
   ]
  },
  {
   "cell_type": "markdown",
   "metadata": {},
   "source": [
    "\n",
    "### Insights into the data types & checking for null values."
   ]
  },
  {
   "cell_type": "code",
   "execution_count": 19,
   "metadata": {},
   "outputs": [
    {
     "data": {
      "text/plain": [
       "Unnamed: 0                             int64\n",
       "id                                     int64\n",
       "Gender                                object\n",
       "Customer Type                         object\n",
       "Age                                    int64\n",
       "Type of Travel                        object\n",
       "Class                                 object\n",
       "Flight Distance                        int64\n",
       "Inflight wifi service                  int64\n",
       "Departure/Arrival time convenient      int64\n",
       "Ease of Online booking                 int64\n",
       "Gate location                          int64\n",
       "Food and drink                         int64\n",
       "Online boarding                        int64\n",
       "Seat comfort                           int64\n",
       "Inflight entertainment                 int64\n",
       "On-board service                       int64\n",
       "Leg room service                       int64\n",
       "Baggage handling                       int64\n",
       "Checkin service                        int64\n",
       "Inflight service                       int64\n",
       "Cleanliness                            int64\n",
       "Departure Delay in Minutes             int64\n",
       "Arrival Delay in Minutes             float64\n",
       "satisfaction                          object\n",
       "dtype: object"
      ]
     },
     "execution_count": 19,
     "metadata": {},
     "output_type": "execute_result"
    }
   ],
   "source": [
    "cs1.dtypes"
   ]
  },
  {
   "cell_type": "code",
   "execution_count": 20,
   "metadata": {},
   "outputs": [
    {
     "data": {
      "text/plain": [
       "Unnamed: 0                             0\n",
       "id                                     0\n",
       "Gender                                 0\n",
       "Customer Type                          0\n",
       "Age                                    0\n",
       "Type of Travel                         0\n",
       "Class                                  0\n",
       "Flight Distance                        0\n",
       "Inflight wifi service                  0\n",
       "Departure/Arrival time convenient      0\n",
       "Ease of Online booking                 0\n",
       "Gate location                          0\n",
       "Food and drink                         0\n",
       "Online boarding                        0\n",
       "Seat comfort                           0\n",
       "Inflight entertainment                 0\n",
       "On-board service                       0\n",
       "Leg room service                       0\n",
       "Baggage handling                       0\n",
       "Checkin service                        0\n",
       "Inflight service                       0\n",
       "Cleanliness                            0\n",
       "Departure Delay in Minutes             0\n",
       "Arrival Delay in Minutes             310\n",
       "satisfaction                           0\n",
       "dtype: int64"
      ]
     },
     "execution_count": 20,
     "metadata": {},
     "output_type": "execute_result"
    }
   ],
   "source": [
    "cs1.isnull().sum()"
   ]
  },
  {
   "cell_type": "code",
   "execution_count": 21,
   "metadata": {},
   "outputs": [
    {
     "data": {
      "text/plain": [
       "0         18.0\n",
       "1          6.0\n",
       "2          0.0\n",
       "3          9.0\n",
       "4          0.0\n",
       "          ... \n",
       "103899     0.0\n",
       "103900     0.0\n",
       "103901    14.0\n",
       "103902     0.0\n",
       "103903     0.0\n",
       "Name: Arrival Delay in Minutes, Length: 103904, dtype: float64"
      ]
     },
     "execution_count": 21,
     "metadata": {},
     "output_type": "execute_result"
    }
   ],
   "source": [
    "cs1['Arrival Delay in Minutes']"
   ]
  },
  {
   "cell_type": "code",
   "execution_count": 22,
   "metadata": {},
   "outputs": [],
   "source": [
    "for col in cs1.columns:\n",
    "    if cs1[col].dtypes == 'float64':\n",
    "        cs1[col].fillna(-1,inplace=True)"
   ]
  },
  {
   "cell_type": "code",
   "execution_count": 23,
   "metadata": {},
   "outputs": [
    {
     "data": {
      "text/plain": [
       "Unnamed: 0                           0\n",
       "id                                   0\n",
       "Gender                               0\n",
       "Customer Type                        0\n",
       "Age                                  0\n",
       "Type of Travel                       0\n",
       "Class                                0\n",
       "Flight Distance                      0\n",
       "Inflight wifi service                0\n",
       "Departure/Arrival time convenient    0\n",
       "Ease of Online booking               0\n",
       "Gate location                        0\n",
       "Food and drink                       0\n",
       "Online boarding                      0\n",
       "Seat comfort                         0\n",
       "Inflight entertainment               0\n",
       "On-board service                     0\n",
       "Leg room service                     0\n",
       "Baggage handling                     0\n",
       "Checkin service                      0\n",
       "Inflight service                     0\n",
       "Cleanliness                          0\n",
       "Departure Delay in Minutes           0\n",
       "Arrival Delay in Minutes             0\n",
       "satisfaction                         0\n",
       "dtype: int64"
      ]
     },
     "execution_count": 23,
     "metadata": {},
     "output_type": "execute_result"
    }
   ],
   "source": [
    "cs1.isnull().sum()"
   ]
  },
  {
   "cell_type": "code",
   "execution_count": 24,
   "metadata": {},
   "outputs": [],
   "source": [
    "cs1['Arrival Delay in Minutes']= cs1['Arrival Delay in Minutes'].astype(np.int64)\n"
   ]
  },
  {
   "cell_type": "code",
   "execution_count": 25,
   "metadata": {},
   "outputs": [
    {
     "data": {
      "text/plain": [
       "Unnamed: 0                            int64\n",
       "id                                    int64\n",
       "Gender                               object\n",
       "Customer Type                        object\n",
       "Age                                   int64\n",
       "Type of Travel                       object\n",
       "Class                                object\n",
       "Flight Distance                       int64\n",
       "Inflight wifi service                 int64\n",
       "Departure/Arrival time convenient     int64\n",
       "Ease of Online booking                int64\n",
       "Gate location                         int64\n",
       "Food and drink                        int64\n",
       "Online boarding                       int64\n",
       "Seat comfort                          int64\n",
       "Inflight entertainment                int64\n",
       "On-board service                      int64\n",
       "Leg room service                      int64\n",
       "Baggage handling                      int64\n",
       "Checkin service                       int64\n",
       "Inflight service                      int64\n",
       "Cleanliness                           int64\n",
       "Departure Delay in Minutes            int64\n",
       "Arrival Delay in Minutes              int64\n",
       "satisfaction                         object\n",
       "dtype: object"
      ]
     },
     "execution_count": 25,
     "metadata": {},
     "output_type": "execute_result"
    }
   ],
   "source": [
    "cs1.dtypes"
   ]
  },
  {
   "cell_type": "code",
   "execution_count": 26,
   "metadata": {},
   "outputs": [
    {
     "name": "stdout",
     "output_type": "stream",
     "text": [
      "The number of unique values for features Unnamed: 0 : 103904\n",
      "The number of unique values for features id : 103904\n",
      "The number of unique values for features Gender : 2 --- ['Female' 'Male']\n",
      "The number of unique values for features Customer Type : 2 --- ['Loyal Customer' 'disloyal Customer']\n",
      "The number of unique values for features Age : 75\n",
      "The number of unique values for features Type of Travel : 2 --- ['Business travel' 'Personal Travel']\n",
      "The number of unique values for features Class : 3 --- ['Business' 'Eco' 'Eco Plus']\n",
      "The number of unique values for features Flight Distance : 3802\n",
      "The number of unique values for features Inflight wifi service : 6 --- [0 1 2 3 4 5]\n",
      "The number of unique values for features Departure/Arrival time convenient : 6 --- [0 1 2 3 4 5]\n",
      "The number of unique values for features Ease of Online booking : 6 --- [0 1 2 3 4 5]\n",
      "The number of unique values for features Gate location : 6 --- [0 1 2 3 4 5]\n",
      "The number of unique values for features Food and drink : 6 --- [0 1 2 3 4 5]\n",
      "The number of unique values for features Online boarding : 6 --- [0 1 2 3 4 5]\n",
      "The number of unique values for features Seat comfort : 6 --- [0 1 2 3 4 5]\n",
      "The number of unique values for features Inflight entertainment : 6 --- [0 1 2 3 4 5]\n",
      "The number of unique values for features On-board service : 6 --- [0 1 2 3 4 5]\n",
      "The number of unique values for features Leg room service : 6 --- [0 1 2 3 4 5]\n",
      "The number of unique values for features Baggage handling : 5 --- [1 2 3 4 5]\n",
      "The number of unique values for features Checkin service : 6 --- [0 1 2 3 4 5]\n",
      "The number of unique values for features Inflight service : 6 --- [0 1 2 3 4 5]\n",
      "The number of unique values for features Cleanliness : 6 --- [0 1 2 3 4 5]\n",
      "The number of unique values for features Departure Delay in Minutes : 446\n",
      "The number of unique values for features Arrival Delay in Minutes : 456\n",
      "The number of unique values for features satisfaction : 2 --- ['neutral or dissatisfied' 'satisfied']\n"
     ]
    }
   ],
   "source": [
    "for colum in cs1:\n",
    "    unique_values = np.unique(cs1[colum])\n",
    "    nr_values = len(unique_values)\n",
    "    if nr_values < 22:\n",
    "        print(\"The number of unique values for features {} : {} --- {}\".format(colum, nr_values,unique_values))\n",
    "    else:\n",
    "         print(\"The number of unique values for features {} : {}\".format(colum, nr_values))"
   ]
  },
  {
   "cell_type": "code",
   "execution_count": 27,
   "metadata": {},
   "outputs": [
    {
     "data": {
      "text/plain": [
       "<AxesSubplot:xlabel='Gender', ylabel='Online boarding'>"
      ]
     },
     "execution_count": 27,
     "metadata": {},
     "output_type": "execute_result"
    },
    {
     "data": {
      "image/png": "[encoded data removed]",
      "text/plain": [
       "<Figure size 432x288 with 1 Axes>"
      ]
     },
     "metadata": {
      "needs_background": "light"
     },
     "output_type": "display_data"
    }
   ],
   "source": [
    "sns.barplot(x=cs1['Gender'],y=cs1['Online boarding'])"
   ]
  },
  {
   "cell_type": "code",
   "execution_count": 29,
   "metadata": {},
   "outputs": [
    {
     "data": {
      "text/plain": [
       "<AxesSubplot:xlabel='Gender', ylabel='Age'>"
      ]
     },
     "execution_count": 29,
     "metadata": {},
     "output_type": "execute_result"
    },
    {
     "data": {
      "image/png": "[encoded data removed]",
      "text/plain": [
       "<Figure size 432x288 with 1 Axes>"
      ]
     },
     "metadata": {
      "needs_background": "light"
     },
     "output_type": "display_data"
    }
   ],
   "source": [
    "sns.barplot(y=cs1['Age'],x=cs1['Gender'])"
   ]
  },
  {
   "cell_type": "code",
   "execution_count": null,
   "metadata": {},
   "outputs": [],
   "source": []
  }
 ],
 "metadata": {
  "interpreter": {
   "hash": "aee8b7b246df8f9039afb4144a1f6fd8d2ca17a180786b69acc140d282b71a49"
  },
  "kernelspec": {
   "display_name": "Python 3.8.5 64-bit",
   "language": "python",
   "name": "python3"
  },
  "language_info": {
   "codemirror_mode": {
    "name": "ipython",
    "version": 3
   },
   "file_extension": ".py",
   "mimetype": "text/x-python",
   "name": "python",
   "nbconvert_exporter": "python",
   "pygments_lexer": "ipython3",
   "version": "3.7.6"
  },
  "orig_nbformat": 4
 },
 "nbformat": 4,
 "nbformat_minor": 2
}
